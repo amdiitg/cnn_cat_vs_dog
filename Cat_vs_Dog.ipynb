{
 "cells": [
  {
   "cell_type": "code",
   "execution_count": 7,
   "id": "6b485c31-85fb-413d-a659-5daa0b8d2fb3",
   "metadata": {},
   "outputs": [],
   "source": [
    "import cv2\n",
    "import os\n",
    "import random\n",
    "import numpy as np"
   ]
  },
  {
   "cell_type": "code",
   "execution_count": 12,
   "id": "003d0330-2a68-4657-bdfd-62f13a9fe956",
   "metadata": {},
   "outputs": [],
   "source": [
    "mydir= r'C:\\Users\\mdafz\\AI_ML\\Deep_Learning\\Data_Augmentation\\data\\train'"
   ]
  },
  {
   "cell_type": "code",
   "execution_count": 13,
   "id": "02357994-b6fd-49c1-b135-c13ce8b4438a",
   "metadata": {},
   "outputs": [],
   "source": [
    "categories = ['cats', 'dogs']"
   ]
  },
  {
   "cell_type": "code",
   "execution_count": 15,
   "id": "0652bf3d-ec35-4cb9-b5a3-fd4a67f74c2f",
   "metadata": {},
   "outputs": [],
   "source": [
    "data = []\n",
    "for i in categories:\n",
    "    folder_path = os.path.join(mydir,i)\n",
    "    if i == 'cats':\n",
    "        label = 0\n",
    "    else:\n",
    "        label = 1\n",
    "    for j in os.listdir(folder_path):\n",
    "        img_path = os.path.join(folder_path,j)\n",
    "        img = cv2.imread(img_path)\n",
    "        img = cv2.resize(img, (150,150))\n",
    "        data.append([img,label])"
   ]
  },
  {
   "cell_type": "code",
   "execution_count": 19,
   "id": "f8b89e2a-991a-4168-b8c7-ad7db56d8e21",
   "metadata": {},
   "outputs": [],
   "source": [
    "random.shuffle(data)"
   ]
  },
  {
   "cell_type": "code",
   "execution_count": 20,
   "id": "f1945db5-6b4f-4b76-b41b-4f0c3897e5d0",
   "metadata": {},
   "outputs": [],
   "source": [
    "x = []\n",
    "y = []\n",
    "for i in data:\n",
    "    x.append(i[0])\n",
    "    y.append(i[1])"
   ]
  },
  {
   "cell_type": "code",
   "execution_count": 21,
   "id": "3754648b-143b-4be2-b5e4-72f90e1e1dab",
   "metadata": {},
   "outputs": [],
   "source": [
    "y = np.array(y)"
   ]
  },
  {
   "cell_type": "code",
   "execution_count": 32,
   "id": "22740e5a-b9e1-49d5-81e6-c75adb54b37c",
   "metadata": {},
   "outputs": [],
   "source": [
    "x = np.array(x)"
   ]
  },
  {
   "cell_type": "code",
   "execution_count": 33,
   "id": "50f3a6c2-905c-4b22-9469-98193609ee4d",
   "metadata": {},
   "outputs": [
    {
     "data": {
      "text/plain": [
       "(2000,)"
      ]
     },
     "execution_count": 33,
     "metadata": {},
     "output_type": "execute_result"
    }
   ],
   "source": [
    "y.shape"
   ]
  },
  {
   "cell_type": "code",
   "execution_count": 31,
   "id": "3d225614-5eca-4528-90ad-3fa98f1bf52f",
   "metadata": {},
   "outputs": [
    {
     "data": {
      "text/plain": [
       "(2000, 150, 150, 3)"
      ]
     },
     "execution_count": 31,
     "metadata": {},
     "output_type": "execute_result"
    }
   ],
   "source": [
    "x.shape"
   ]
  },
  {
   "cell_type": "code",
   "execution_count": 39,
   "id": "1e17fc8b-4ebe-4476-8af2-6205581d69b4",
   "metadata": {},
   "outputs": [],
   "source": [
    "import tensorflow as tf\n",
    "from tensorflow import keras\n",
    "from keras import Sequential\n",
    "from keras.layers import Conv2D, MaxPooling2D, Dense, Flatten, Dropout"
   ]
  },
  {
   "cell_type": "code",
   "execution_count": 40,
   "id": "636bb3f9-9587-4c70-baa4-912ff5652d4f",
   "metadata": {},
   "outputs": [],
   "source": [
    "model = Sequential()\n",
    "model.add(Conv2D(32, kernel_size= (3, 3), padding = 'valid', activation = 'relu', input_shape = (150, 150, 3)))\n",
    "model.add(MaxPooling2D(pool_size=(2,2), strides=2, padding='valid'))\n",
    "\n",
    "model.add(Conv2D(32, kernel_size= (3, 3), padding = 'valid', activation = 'relu'))\n",
    "model.add(MaxPooling2D(pool_size=(2,2), strides=2, padding='valid'))\n",
    "\n",
    "model.add(Conv2D(64, kernel_size= (3, 3), padding = 'valid', activation = 'relu'))\n",
    "model.add(MaxPooling2D(pool_size=(2,2), strides=2, padding='valid'))"
   ]
  },
  {
   "cell_type": "code",
   "execution_count": 42,
   "id": "906c18fd-94bc-4155-a909-289c2e9f8285",
   "metadata": {},
   "outputs": [],
   "source": [
    "model.add(Flatten())\n",
    "model.add(Dense(64, activation = 'relu'))\n",
    "model.add(Dropout(0.5))\n",
    "model.add(Dense(1, activation = 'sigmoid'))"
   ]
  },
  {
   "cell_type": "code",
   "execution_count": 45,
   "id": "9b5b5ff5-8465-48fe-b334-82739e45325e",
   "metadata": {},
   "outputs": [],
   "source": [
    "model.compile(\n",
    "    optimizer = 'rmsprop',\n",
    "    loss = 'binary_crossentropy',\n",
    "    metrics = ['accuracy']\n",
    ")"
   ]
  },
  {
   "cell_type": "code",
   "execution_count": 47,
   "id": "bf1c58e3-dfa7-4f4a-9ea6-8eba1f82a8a5",
   "metadata": {},
   "outputs": [
    {
     "name": "stdout",
     "output_type": "stream",
     "text": [
      "Epoch 1/5\n",
      "\u001b[1m57/57\u001b[0m \u001b[32m━━━━━━━━━━━━━━━━━━━━\u001b[0m\u001b[37m\u001b[0m \u001b[1m15s\u001b[0m 229ms/step - accuracy: 0.5022 - loss: 21.1664 - val_accuracy: 0.5350 - val_loss: 1.0471\n",
      "Epoch 2/5\n",
      "\u001b[1m57/57\u001b[0m \u001b[32m━━━━━━━━━━━━━━━━━━━━\u001b[0m\u001b[37m\u001b[0m \u001b[1m11s\u001b[0m 188ms/step - accuracy: 0.5522 - loss: 0.8283 - val_accuracy: 0.5100 - val_loss: 0.8470\n",
      "Epoch 3/5\n",
      "\u001b[1m57/57\u001b[0m \u001b[32m━━━━━━━━━━━━━━━━━━━━\u001b[0m\u001b[37m\u001b[0m \u001b[1m11s\u001b[0m 188ms/step - accuracy: 0.5688 - loss: 1.0061 - val_accuracy: 0.5200 - val_loss: 1.7796\n",
      "Epoch 4/5\n",
      "\u001b[1m57/57\u001b[0m \u001b[32m━━━━━━━━━━━━━━━━━━━━\u001b[0m\u001b[37m\u001b[0m \u001b[1m11s\u001b[0m 185ms/step - accuracy: 0.6543 - loss: 0.8271 - val_accuracy: 0.5800 - val_loss: 0.8792\n",
      "Epoch 5/5\n",
      "\u001b[1m57/57\u001b[0m \u001b[32m━━━━━━━━━━━━━━━━━━━━\u001b[0m\u001b[37m\u001b[0m \u001b[1m11s\u001b[0m 185ms/step - accuracy: 0.6656 - loss: 0.6393 - val_accuracy: 0.6150 - val_loss: 0.6791\n"
     ]
    },
    {
     "data": {
      "text/plain": [
       "<keras.src.callbacks.history.History at 0x2c2fcf8d0d0>"
      ]
     },
     "execution_count": 47,
     "metadata": {},
     "output_type": "execute_result"
    }
   ],
   "source": [
    "model.fit(x,y,epochs = 5, validation_split = 0.1)"
   ]
  },
  {
   "cell_type": "code",
   "execution_count": null,
   "id": "7698dbcc-3bd8-4d7a-a046-cf55993673d5",
   "metadata": {},
   "outputs": [],
   "source": []
  }
 ],
 "metadata": {
  "kernelspec": {
   "display_name": "Python 3 (ipykernel)",
   "language": "python",
   "name": "python3"
  },
  "language_info": {
   "codemirror_mode": {
    "name": "ipython",
    "version": 3
   },
   "file_extension": ".py",
   "mimetype": "text/x-python",
   "name": "python",
   "nbconvert_exporter": "python",
   "pygments_lexer": "ipython3",
   "version": "3.11.7"
  }
 },
 "nbformat": 4,
 "nbformat_minor": 5
}
